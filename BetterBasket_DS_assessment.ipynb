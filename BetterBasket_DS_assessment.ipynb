{
 "cells": [
  {
   "cell_type": "markdown",
   "metadata": {},
   "source": [
    "![logo](https://lh3.googleusercontent.com/drive-viewer/AK7aPaD3ufeMCQTD1-doWtQSHK8snQjgqYdAscSL7mNuLmhVVAoDmdbuV5Z1eG_j5-vT4N64bUvfOrHjuw-3WrS532FsUSu9=s1600)"
   ]
  },
  {
   "cell_type": "markdown",
   "metadata": {},
   "source": [
    "# Data Science Assessment"
   ]
  },
  {
   "cell_type": "markdown",
   "metadata": {
    "id": "WiZXIYDS6q-h"
   },
   "source": [
    "## Theoretical Part"
   ]
  },
  {
   "cell_type": "markdown",
   "metadata": {
    "id": "eX0P8GQj5YTv"
   },
   "source": [
    "### Question 1\n",
    "#### You are given thousands of images like the one in the link below:\n",
    "#### https://drive.google.com/file/d/1Q7ri0UcGmtsfYiAJ1hb8fI0bLdmsYMNi/view?usp=sharing\n",
    "#### Describe the method you would use for getting key information from each product image."
   ]
  },
  {
   "cell_type": "markdown",
   "metadata": {
    "id": "2hp-lqfZ5uaY"
   },
   "source": [
    "*Your answer here*\n",
    "\n",
    "1) Edge detection to get only the item, not the banners etc\n",
    "2) OCR to get name, netweight etc\n",
    "3) Object classification to get item category\n"
   ]
  },
  {
   "cell_type": "markdown",
   "metadata": {
    "id": "BTYXvZQv5tLW"
   },
   "source": [
    "### Question 2\n",
    "#### One of our customers is interested in monitoring the grocery section of a direct competitor, Target, in the state of New York.\n",
    "#### https://www.target.com/\n",
    "#### Target is a huge website with tons of data publicly available. Suggest three valuable insights that we can be capturing by scraping the website on a daily basis."
   ]
  },
  {
   "cell_type": "markdown",
   "metadata": {
    "id": "Lwg9Eqrh5g3k"
   },
   "source": [
    "We could get: \n",
    "1) Daily flunctuations in prices for specific core products as time series\n",
    "2) Information about items on sale or with discount or out of stock (which can be used to reverse engineer their marketing strategy and logistics)\n",
    "3) Details about new items on sale"
   ]
  },
  {
   "cell_type": "markdown",
   "metadata": {
    "id": "r2U5zIFa6var"
   },
   "source": [
    "## Coding Part"
   ]
  },
  {
   "cell_type": "markdown",
   "metadata": {
    "id": "lGTyOTNH6xnQ"
   },
   "source": [
    "### Question 3\n",
    "#### Here’s an example item from Target:\n",
    "#### https://www.target.com/p/ocean-spray-cranberry-juice-cocktail-64-fl-oz-bottle/-/A-12935714#lnk=sametab\n",
    "#### Design an SQL schema for storing item information when scraping all items from Target website."
   ]
  },
  {
   "cell_type": "code",
   "execution_count": 5,
   "metadata": {
    "executionInfo": {
     "elapsed": 4,
     "status": "ok",
     "timestamp": 1697299300625,
     "user": {
      "displayName": "Gabriel Valderrama",
      "userId": "14484508531356056784"
     },
     "user_tz": -180
    },
    "id": "eKGbo1Pj6wwU"
   },
   "outputs": [],
   "source": [
    "# Your SQL code here\n",
    "import logging\n",
    "\n",
    "import psycopg2\n",
    "from sqlalchemy import create_engine, text\n",
    "from sqlalchemy.exc import IntegrityError\n",
    "from sqlalchemy.engine.base import Connection\n",
    "import pandas as pd\n",
    "\n",
    "logger = logging.getLogger(\"database_utils\")\n",
    "\n",
    "HOST = 'localhost'\n",
    "PORT = '5432'\n",
    "DBNAME = 'BETTERBASKET'\n",
    "USER = 'test'\n",
    "PASSWORD = 'test'\n",
    "\n",
    "def get_connection_parameters(host=None, port=None, dbname=None, user=None, password=None):\n",
    "    logger.debug(f\"Reading from local settings\")\n",
    "    if host is None:\n",
    "        host = HOST\n",
    "    if port is None:\n",
    "        port = PORT\n",
    "    if dbname is None:\n",
    "        dbname = DBNAME\n",
    "    if user is None:\n",
    "        user = USER\n",
    "    if password is None:\n",
    "        password = PASSWORD\n",
    "\n",
    "\n",
    "def engine_connect():\n",
    "    host, port, dbname, user, password = get_connection_parameters()\n",
    "    conn_string = f\"postgresql://[{host}]:{port}/{dbname}?user={user}&password={password}\"\n",
    "    db = create_engine(conn_string)  # , pool_pre_ping=True\n",
    "    conn = db.connect()\n",
    "    logger.debug(f\"Engine connect:Connecting to {conn} from secrets.\")\n",
    "\n",
    "    return conn\n",
    "\n",
    "\n",
    "def connect_with_psycopg2(host=None, port=None, dbname=None, user=None, password=None):\n",
    "    host, port, dbname, user, password = get_connection_parameters(host, port, dbname, user, password)\n",
    "    conn = psycopg2.connect(\n",
    "        host=host,\n",
    "        port=port,\n",
    "        database=dbname,\n",
    "        user=user,\n",
    "        password=password)\n",
    "    logger.info(f\"Connecting to {conn} from {READ_DB_CREDENTIALS_FROM}.\")\n",
    "    return conn\n",
    "\n",
    "\n",
    "def connect(host=None, port=None, dbname=None, user=None, password=None):\n",
    "    try:\n",
    "        conn = connect_with_psycopg2(host, port, dbname, user, password)\n",
    "    except (Exception, psycopg2.DatabaseError) as error:\n",
    "        logger.error(error)\n",
    "        return None\n",
    "        \n",
    "def execute_commands(commands, target_function=None, **kwargs):\n",
    "    results = None\n",
    "    try:\n",
    "        conn = connect()\n",
    "        cur = conn.cursor()\n",
    "        for command in commands:\n",
    "            logger.debug(f\"Executing command: {command}\")\n",
    "            cur.execute(command)\n",
    "            if target_function is not None:\n",
    "                result = target_function(cur, **kwargs)\n",
    "                results.append(result)\n",
    "        cur.close()\n",
    "        conn.commit()\n",
    "\n",
    "    except (Exception, psycopg2.DatabaseError) as error:\n",
    "        logger.error(error)\n",
    "    finally:\n",
    "        if conn is not None:\n",
    "            conn.close()\n",
    "        return results\n",
    "        \n",
    "def create_tables():\n",
    "    \"\"\" create tables in the PostgreSQL database\"\"\"\n",
    "    commands = (\n",
    "        \"\"\"\n",
    "        CREATE TABLE USER_ITEMS (\n",
    "            datetime TIMESTAMP WITH TIME ZONE PRIMARY KEY,\n",
    "            item_id INT8,\n",
    "            vendor VARCHAR(32),\n",
    "            price FLOAT8,\n",
    "            on_sale INT4, \n",
    "            weight FLOAT4,\n",
    "            net weight FLOAT4,\n",
    "            name VARCHAR(32),\n",
    "            description VARCHAR(256),\n",
    "            contains VARCHAR(32),\n",
    "            form VARCHAR(32),\n",
    "            TCIN INT8,\n",
    "            UPC INT8,\n",
    "        )\n",
    "        \"\"\",\n",
    "    )\n",
    "    execute_commands(commands)\n",
    "\n",
    "# Can also add the calorie section and the rest of the specification info "
   ]
  },
  {
   "cell_type": "markdown",
   "metadata": {},
   "source": [
    "### Question 4\n",
    "#### We have scraped two online grocery storefronts, one of Whole Foods and and one of Fresh Direct, both located in 10002. You are given the lists of Wine & Beer \n",
    "#### items of each storefront in the link below.\n",
    "#### https://drive.google.com/drive/folders/17W1vjy4Vi0d32ThDlJZTneH4bNAjgFxV?usp=sharing\n",
    "#### Please create a Python script that reads the two lists shared, processes the data to find common items, and outputs the list of common items to an output file. \n",
    "#### The script should be executable from the terminal using the command:  python3 {script_name} {input1} {input2} {output}\n",
    "#### If your script relies on external libraries or packages, include a requirements.txt file specifying the dependencies."
   ]
  },
  {
   "cell_type": "code",
   "execution_count": 2,
   "metadata": {},
   "outputs": [
    {
     "name": "stderr",
     "output_type": "stream",
     "text": [
      "DEBUG:compare_lists:List1:\n",
      "              category  ...                                           item_url\n",
      "0  Beer, Non-Alcoholic  ...  https://www.freshdirect.com/supergro/beer/sc/b...\n",
      "1  Beer, Non-Alcoholic  ...  https://www.freshdirect.com/supergro/beer/sc/b...\n",
      "2  Beer, Non-Alcoholic  ...  https://www.freshdirect.com/supergro/beer/sc/b...\n",
      "3  Beer, Non-Alcoholic  ...  https://www.freshdirect.com/supergro/beer/sc/b...\n",
      "4  Beer, Non-Alcoholic  ...  https://www.freshdirect.com/supergro/beer/sc/b...\n",
      "\n",
      "[5 rows x 9 columns]\n",
      "DEBUG:compare_lists:List2:\n",
      "                                           name  ...  serving_size_uom\n",
      "0                     Modelo Especial, 12 fl oz  ...               NaN\n",
      "1          Run Wild Non-Alcoholic IPA, 12 fl oz  ...             fl oz\n",
      "2  Blue Moon Belgian White Ale (6-pk), 12 fl oz  ...             fl oz\n",
      "3                 Modelo Especial 6pk, 12 fl oz  ...               NaN\n",
      "4                 Blood Orange Mint 6pk, 355 ml  ...               can\n",
      "\n",
      "[5 rows x 10 columns]\n",
      "DEBUG:compare_lists:List1:\n",
      "              category  ... package\n",
      "0  Beer, Non-Alcoholic  ...     can\n",
      "1  Beer, Non-Alcoholic  ...    cans\n",
      "2  Beer, Non-Alcoholic  ...    cans\n",
      "3  Beer, Non-Alcoholic  ...     can\n",
      "4  Beer, Non-Alcoholic  ...    cans\n",
      "\n",
      "[5 rows x 10 columns]\n",
      "DEBUG:compare_lists:List2:\n",
      "                                 name  price  ...  serving_size_uom    package\n",
      "0                     modelo especial  19.99  ...               NaN   12 fl oz\n",
      "1          run wild non-alcoholic ipa  11.99  ...             fl oz   12 fl oz\n",
      "2  blue moon belgian white ale (6-pk)  13.49  ...             fl oz   12 fl oz\n",
      "3                 modelo especial 6pk  10.49  ...               NaN        6pk\n",
      "4               blood orange mint 6pk  15.99  ...               can        6pk\n",
      "\n",
      "[5 rows x 11 columns]\n",
      "DEBUG:compare_lists:Result:\n",
      "Empty DataFrame\n",
      "Columns: [name]\n",
      "Index: []\n",
      "INFO:compare_lists:The result is saved in .\\output.csv.\n"
     ]
    }
   ],
   "source": [
    "!python .\\compare_lists.py .\\fresh_direct.csv .\\whole_foods.csv .\\output.csv\n"
   ]
  },
  {
   "cell_type": "code",
   "execution_count": 3,
   "metadata": {},
   "outputs": [],
   "source": [
    "# some weird thing is happening with the replace string at line 19, don't have time to check it "
   ]
  },
  {
   "cell_type": "code",
   "execution_count": null,
   "metadata": {},
   "outputs": [],
   "source": []
  }
 ],
 "metadata": {
  "colab": {
   "authorship_tag": "ABX9TyPs4ArlVL5Av7wpc33n1I5c",
   "provenance": []
  },
  "kernelspec": {
   "display_name": "Python 3 (ipykernel)",
   "language": "python",
   "name": "python3"
  },
  "language_info": {
   "codemirror_mode": {
    "name": "ipython",
    "version": 3
   },
   "file_extension": ".py",
   "mimetype": "text/x-python",
   "name": "python",
   "nbconvert_exporter": "python",
   "pygments_lexer": "ipython3",
   "version": "3.9.0"
  }
 },
 "nbformat": 4,
 "nbformat_minor": 4
}
