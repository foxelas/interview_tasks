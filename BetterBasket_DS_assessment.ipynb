{
 "cells": [
  {
   "cell_type": "markdown",
   "metadata": {},
   "source": [
    "![logo](https://lh3.googleusercontent.com/drive-viewer/AK7aPaD3ufeMCQTD1-doWtQSHK8snQjgqYdAscSL7mNuLmhVVAoDmdbuV5Z1eG_j5-vT4N64bUvfOrHjuw-3WrS532FsUSu9=s1600)"
   ]
  },
  {
   "cell_type": "markdown",
   "metadata": {},
   "source": [
    "# Data Science Assessment"
   ]
  },
  {
   "cell_type": "markdown",
   "metadata": {
    "id": "WiZXIYDS6q-h"
   },
   "source": [
    "## Theoretical Part"
   ]
  },
  {
   "cell_type": "markdown",
   "metadata": {
    "id": "eX0P8GQj5YTv"
   },
   "source": [
    "### Question 1\n",
    "#### You are given thousands of images like the one in the link below:\n",
    "#### https://drive.google.com/file/d/1Q7ri0UcGmtsfYiAJ1hb8fI0bLdmsYMNi/view?usp=sharing\n",
    "#### Describe the method you would use for getting key information from each product image."
   ]
  },
  {
   "cell_type": "markdown",
   "metadata": {
    "id": "2hp-lqfZ5uaY"
   },
   "source": [
    "To extract key information from product images, we could use the following pipeline of procedures: \n",
    "\n",
    "1 Image Preprocessing:\n",
    "- Enhance image quality and adjust brightness/contrast if necesary.\n",
    "- Check for alternative angles for the product, in order to process all images of the same product as a group.\n",
    "    \n",
    "2 Object Detection: \n",
    "- Use pre-trained object detection models (such as YOLO) to identify and locate objects with the image\n",
    "- Identify the main (target) object and ignore text boxes, banners and additional marketing elements.\n",
    "\n",
    "3 Image Segmentation:\n",
    "- Employ deep learning segmentation and/or edge detection techniques to divide the image into meaningful regions.\n",
    "- Identify the product's boundaries, in order to detect the packaging type (bottle, box, etc) to record it.\n",
    "\n",
    "4 Feature Extraction:\n",
    "- Use pattern matching or train a classificiation model to identify specific markers (e.g. US GROWN) on the packaging.\n",
    "- Use another model to identify markers that indicate applicable discounts.\n",
    "\n",
    "5 Text Extraction:\n",
    "- Use optical character recognition (OCR) to extract text information from the product image, such as product names, descriptions and other labels.\n",
    "- Additionally detect information such as volume, weight and nutritional information.\n",
    "\n",
    "6 Classification:\n",
    "- Train a classification model to categorize products (e.g. beverage, rice, pasta, etc).\n",
    "  \n",
    "7 Quality Control:\n",
    "- Implement checks to ensure the accuracy of the information extracted.\n",
    "- Address false positives/negatives and refine the model if necessary.\n",
    "\n",
    "8 Integration with database: \n",
    "- Store the extracted information in a structured format and integrate it into a database.\n",
    "  \n",
    "9 Maintenance:\n",
    "- Update and retrain the models with new data to adapt to changes in the product images.tem category\n"
   ]
  },
  {
   "cell_type": "markdown",
   "metadata": {
    "id": "BTYXvZQv5tLW"
   },
   "source": [
    "### Question 2\n",
    "#### One of our customers is interested in monitoring the grocery section of a direct competitor, Target, in the state of New York.\n",
    "#### https://www.target.com/\n",
    "#### Target is a huge website with tons of data publicly available. Suggest three valuable insights that we can be capturing by scraping the website on a daily basis."
   ]
  },
  {
   "cell_type": "markdown",
   "metadata": {
    "id": "Lwg9Eqrh5g3k"
   },
   "source": [
    "1 Product pricing and promotions:\n",
    "- Track daily flunctuations in product prices as continuous time series and identify any promotions, discounts, or special offers.\n",
    "\n",
    "2 Product availability and stock levels:\n",
    "- Track the availability of popular grocery items and track stock levels over time.\n",
    "- Identify out-of-stock or low-stock situations for specific products.\n",
    "\n",
    "3 New product launches and featured products:\n",
    "- Identify new items on the website.\n",
    "- Identify featured products or those being heavily promoted on the website.lines."
   ]
  },
  {
   "cell_type": "markdown",
   "metadata": {
    "id": "r2U5zIFa6var"
   },
   "source": [
    "## Coding Part"
   ]
  },
  {
   "cell_type": "markdown",
   "metadata": {
    "id": "lGTyOTNH6xnQ"
   },
   "source": [
    "### Question 3\n",
    "#### Here’s an example item from Target:\n",
    "#### https://www.target.com/p/ocean-spray-cranberry-juice-cocktail-64-fl-oz-bottle/-/A-12935714#lnk=sametab\n",
    "#### Design an SQL schema for storing item information when scraping all items from Target website."
   ]
  },
  {
   "cell_type": "code",
   "execution_count": null,
   "metadata": {},
   "outputs": [],
   "source": [
    "CREATE TABLE Product (\n",
    "    product_id INT PRIMARY KEY,\n",
    "    name VARCHAR(255),\n",
    "    brand VARCHAR(100),\n",
    "    category VARCHAR(100),\n",
    "    price DECIMAL(10, 2),\n",
    "    currency VARCHAR(3),\n",
    "    availability BOOLEAN,\n",
    "    stock_quantity INT,\n",
    "    url VARCHAR(255),\n",
    ");\n",
    "\n",
    "CREATE TABLE ProductDetails (\n",
    "    product_id INT PRIMARY KEY,\n",
    "    description TEXT,\n",
    "    highlights TEXT,\n",
    "    contains TEXT,\n",
    "    features TEXT,\n",
    "    image_url VARCHAR(255),\n",
    "    rating FLOAT,\n",
    "    num_reviews INT,\n",
    "    on_sale BOOLEAN,\n",
    "    net_weight FLOAT,\n",
    "    package_quantity INT,\n",
    "    TCIN INT,\n",
    "    UPC INT,\n",
    "    origin VARCHAR(255)\n",
    "    form VARCHAR(255),\n",
    "    date_scraped TIMESTAMP WITH TIME ZONE,\n",
    "    FOREIGN KEY (product_id) REFERENCES Product(product_id)\n",
    ");"
   ]
  },
  {
   "cell_type": "markdown",
   "metadata": {},
   "source": [
    "In more detail: \n",
    "- Product: This table stores basic information about each product.\n",
    "    - product_id: A unique identifier for each product.\n",
    "    - name: The name of the product (e.g., Ocean Spray Cranberry Juice Cocktail - 64 fl oz Bottle).\n",
    "    - brand: The brand of the product (e.g., Ocean Spray).\n",
    "    - category: The category to which the product belongs (e.g., \"Beverages/Juice & Cider\").\n",
    "    - price: The price of the product (e.g., 3.39).\n",
    "    - currency: The currency in which the price is specified (e.g., US Dollars).\n",
    "    - availability: A boolean indicating whether the product is available (e.g., True).\n",
    "    - stock_quantity: The quantity of the product in stock (e.g., 10).\n",
    "    - url: The URL of the product on the Target website.\n",
    "        \n",
    "- ProductDetails: This table stores additional details about each product.\n",
    "    - product_id: A foreign key linking to the product_id in the Product table.\n",
    "    - description: A text field containing a detailed description of the product.\n",
    "    - highlights: A text field containing highlights of the product.\n",
    "    - contains: A text field containing the allergen contents of the product.\n",
    "    - features: A text field containing the features of the product.\n",
    "    - on_sale: A boolean indicating whether the product is on sale.\n",
    "    - net_weight: The net weight of the product in grams.\n",
    "    - package_quantity: The package quantity of the product.\n",
    "    - image_url: The URL of the product image.\n",
    "    - rating: The average rating of the product (e.g., 4.7).\n",
    "    - num_reviews: The number of reviews for the product (e.g., 481).\n",
    "    - TCIN: The TCIN identifier (e.g., 12935714).\n",
    "    - UPC: The UPC identifier (e.g., 031200200075).\n",
    "    - origin: The origin of the product (e.g., Made in the USA or Imported).\n",
    "    - form: The form of the product (e.g., Liquid).\n",
    "    - date_scraped: The timestamp when the information was scraped.\n",
    "\n",
    "\n",
    "A foreign key is set to allign the two data tables. SQL supports foreign keys, which permit cross-referencing related data across tables, and foreign key constraints, which help keep the related data consistent, in this case Product and ProductDetails. e."
   ]
  },
  {
   "cell_type": "markdown",
   "metadata": {},
   "source": [
    "### Question 4\n",
    "#### We have scraped two online grocery storefronts, one of Whole Foods and and one of Fresh Direct, both located in 10002. You are given the lists of Wine & Beer \n",
    "#### items of each storefront in the link below.\n",
    "#### https://drive.google.com/drive/folders/17W1vjy4Vi0d32ThDlJZTneH4bNAjgFxV?usp=sharing\n",
    "#### Please create a Python script that reads the two lists shared, processes the data to find common items, and outputs the list of common items to an output file. \n",
    "#### The script should be executable from the terminal using the command:  python3 {script_name} {input1} {input2} {output}\n",
    "#### If your script relies on external libraries or packages, include a requirements.txt file specifying the dependencies."
   ]
  },
  {
   "cell_type": "code",
   "execution_count": 7,
   "metadata": {},
   "outputs": [
    {
     "name": "stderr",
     "output_type": "stream",
     "text": [
      "DEBUG:compare_lists:Original List1:\n",
      "              category  ...                                           item_url\n",
      "0  Beer, Non-Alcoholic  ...  https://www.freshdirect.com/supergro/beer/sc/b...\n",
      "1  Beer, Non-Alcoholic  ...  https://www.freshdirect.com/supergro/beer/sc/b...\n",
      "2  Beer, Non-Alcoholic  ...  https://www.freshdirect.com/supergro/beer/sc/b...\n",
      "3  Beer, Non-Alcoholic  ...  https://www.freshdirect.com/supergro/beer/sc/b...\n",
      "4  Beer, Non-Alcoholic  ...  https://www.freshdirect.com/supergro/beer/sc/b...\n",
      "\n",
      "[5 rows x 9 columns]\n",
      "\n",
      "DEBUG:compare_lists:Original List2:\n",
      "                                           name  ...  serving_size_uom\n",
      "0                     Modelo Especial, 12 fl oz  ...               NaN\n",
      "1          Run Wild Non-Alcoholic IPA, 12 fl oz  ...             fl oz\n",
      "2  Blue Moon Belgian White Ale (6-pk), 12 fl oz  ...             fl oz\n",
      "3                 Modelo Especial 6pk, 12 fl oz  ...               NaN\n",
      "4                 Blood Orange Mint 6pk, 355 ml  ...               can\n",
      "\n",
      "[5 rows x 10 columns]\n",
      "\n",
      "DEBUG:compare_lists:Preprocessed List1:\n",
      "                 name package                brand\n",
      "329        pinot gris    None        a to z oregon\n",
      "138        white beer    cans             allagash\n",
      "231        white beer    cans             allagash\n",
      "464      brut reserva    None  altos de sueno cava\n",
      "363  pinot grigio igt     box      alverdi organic\n",
      "\n",
      "DEBUG:compare_lists:Preprocessed List2:\n",
      "                    name    package brand\n",
      "325  dominga mimosa sour      12 oz      \n",
      "15          fat tire ale  6 bottles      \n",
      "174            fresh cut        6pk      \n",
      "217            fresh cut       12pk      \n",
      "127                  ipa        6pk      \n",
      "\n",
      "DEBUG:compare_lists:Result:\n",
      "          brand                       name\n",
      "0      allagash                 white beer\n",
      "1      athletic  run wild nonalcoholic ipa\n",
      "2       barrier                  money ipa\n",
      "3  breckenridge             vanilla porter\n",
      "4         bronx          american pale ale\n",
      "\n",
      "INFO:compare_lists:A total of 42 common items were found. The result is saved in output.csv.\n"
     ]
    }
   ],
   "source": [
    "!python .\\compare_lists.py .\\fresh_direct.csv .\\whole_foods.csv .\\output.csv"
   ]
  },
  {
   "cell_type": "code",
   "execution_count": null,
   "metadata": {},
   "outputs": [],
   "source": []
  }
 ],
 "metadata": {
  "colab": {
   "authorship_tag": "ABX9TyPs4ArlVL5Av7wpc33n1I5c",
   "provenance": []
  },
  "kernelspec": {
   "display_name": "Python 3 (ipykernel)",
   "language": "python",
   "name": "python3"
  },
  "language_info": {
   "codemirror_mode": {
    "name": "ipython",
    "version": 3
   },
   "file_extension": ".py",
   "mimetype": "text/x-python",
   "name": "python",
   "nbconvert_exporter": "python",
   "pygments_lexer": "ipython3",
   "version": "3.9.0"
  }
 },
 "nbformat": 4,
 "nbformat_minor": 4
}
